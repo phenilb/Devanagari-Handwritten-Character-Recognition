{
 "cells": [
  {
   "cell_type": "code",
   "execution_count": 1,
   "metadata": {
    "_cell_guid": "b1076dfc-b9ad-4769-8c92-a6c4dae69d19",
    "_uuid": "8f2839f25d086af736a60e9eeb907d3b93b6e0e5",
    "collapsed": true
   },
   "outputs": [],
   "source": [
    "%matplotlib inline   \n",
    "import numpy as np # linear algebra\n",
    "import pandas as pd # data processing, CSV file I/O (e.g. pd.read_csv)\n",
    "from tensorflow import keras #The deep learning model we will use to train our dataset will make use of this\n",
    "import tensorflow as tf\n",
    "from PIL import Image as IMG #To read the image file\n",
    "import os #To move through the folders and fetching the images\n",
    "import matplotlib.pyplot as plt #To render Plots of our data\n",
    "import sklearn.model_selection as smodel #To split the data for training and cross validation set\n",
    "# Any results you write to the current directory are saved as output.\\\n",
    "# Any results you write to the current directory are saved as output."
   ]
  },
  {
   "cell_type": "code",
   "execution_count": 2,
   "metadata": {
    "_cell_guid": "79c7e3d0-c299-4dcb-8224-4455121ee9b0",
    "_uuid": "d629ff2d2480ee46fbb7e2d37f6b5fab8052498a",
    "collapsed": true
   },
   "outputs": [],
   "source": [
    "def countfile(root_dir):\n",
    "    '''This function will move through all directory and \n",
    "    count the no. of images in our training set'''\n",
    "    count = 0\n",
    "    parent_folders = [os.path.join(root_dir,f) for f in os.listdir(root_dir)]\n",
    "    for characterfolder in parent_folders:\n",
    "        if(os.path.isdir(characterfolder)):\n",
    "            characterimage = [os.path.join(characterfolder,f) for f in os.listdir(characterfolder)]\n",
    "            for image in characterimage:\n",
    "                count += 1\n",
    "    return count"
   ]
  },
  {
   "cell_type": "code",
   "execution_count": 3,
   "metadata": {
    "_uuid": "3951e4e9946d42b62a6c0461600b558d8d1a103d",
    "collapsed": true
   },
   "outputs": [],
   "source": [
    "def make_matrix(root_dir):\n",
    "    '''This will make our feature matrix and label matrix used to train our model\n",
    "    '''\n",
    "    size = countfile(root_dir)\n",
    "    X = np.zeros((size,32,32))\n",
    "    Y = np.zeros((size,1),dtype='U12')\n",
    "    #dtype='S140' previously\n",
    "    Id = 0\n",
    "    no_classes=0\n",
    "    parent_folders = [os.path.join(root_dir,f) for f in os.listdir(root_dir)]\n",
    "    for characterfolder in parent_folders:\n",
    "        if(characterfolder):\n",
    "            no_classes+=1\n",
    "            print(characterfolder,\" Class \",no_classes)\n",
    "            characterimage = [os.path.join(characterfolder,f) for f in os.listdir(characterfolder)]\n",
    "            for image in characterimage:\n",
    "                I = np.array(IMG.open(image))#This will open the image and parse the data as it's pixel values\n",
    "                X[Id] = I #Used to assign the pixel data for each image\n",
    "                filepathTokens=image.split('/') \n",
    "                Y[Id] = (filepathTokens[-1].split('_')[-1]).split('\\\\')[0]\n",
    "                Id += 1\n",
    "    return X,Y"
   ]
  },
  {
   "cell_type": "code",
   "execution_count": 4,
   "metadata": {
    "_uuid": "9f078e712eaf02c9860659c331e654c45b19063d",
    "collapsed": true
   },
   "outputs": [
    {
     "name": "stdout",
     "output_type": "stream",
     "text": [
      "DevanagariHandwrittenCharacterDataset/Train/character_10_yna  Class  1\n",
      "DevanagariHandwrittenCharacterDataset/Train/character_11_taamatar  Class  2\n",
      "DevanagariHandwrittenCharacterDataset/Train/character_12_thaa  Class  3\n",
      "DevanagariHandwrittenCharacterDataset/Train/character_13_daa  Class  4\n",
      "DevanagariHandwrittenCharacterDataset/Train/character_14_dhaa  Class  5\n",
      "DevanagariHandwrittenCharacterDataset/Train/character_15_adna  Class  6\n",
      "DevanagariHandwrittenCharacterDataset/Train/character_16_tabala  Class  7\n",
      "DevanagariHandwrittenCharacterDataset/Train/character_17_tha  Class  8\n",
      "DevanagariHandwrittenCharacterDataset/Train/character_18_da  Class  9\n",
      "DevanagariHandwrittenCharacterDataset/Train/character_19_dha  Class  10\n",
      "DevanagariHandwrittenCharacterDataset/Train/character_1_ka  Class  11\n",
      "DevanagariHandwrittenCharacterDataset/Train/character_20_na  Class  12\n",
      "DevanagariHandwrittenCharacterDataset/Train/character_21_pa  Class  13\n",
      "DevanagariHandwrittenCharacterDataset/Train/character_22_pha  Class  14\n",
      "DevanagariHandwrittenCharacterDataset/Train/character_23_ba  Class  15\n",
      "DevanagariHandwrittenCharacterDataset/Train/character_24_bha  Class  16\n",
      "DevanagariHandwrittenCharacterDataset/Train/character_25_ma  Class  17\n",
      "DevanagariHandwrittenCharacterDataset/Train/character_26_yaw  Class  18\n",
      "DevanagariHandwrittenCharacterDataset/Train/character_27_ra  Class  19\n",
      "DevanagariHandwrittenCharacterDataset/Train/character_28_la  Class  20\n",
      "DevanagariHandwrittenCharacterDataset/Train/character_29_waw  Class  21\n",
      "DevanagariHandwrittenCharacterDataset/Train/character_2_kha  Class  22\n",
      "DevanagariHandwrittenCharacterDataset/Train/character_30_motosaw  Class  23\n",
      "DevanagariHandwrittenCharacterDataset/Train/character_31_petchiryakha  Class  24\n",
      "DevanagariHandwrittenCharacterDataset/Train/character_32_patalosaw  Class  25\n",
      "DevanagariHandwrittenCharacterDataset/Train/character_33_ha  Class  26\n",
      "DevanagariHandwrittenCharacterDataset/Train/character_34_chhya  Class  27\n",
      "DevanagariHandwrittenCharacterDataset/Train/character_35_tra  Class  28\n",
      "DevanagariHandwrittenCharacterDataset/Train/character_36_gya  Class  29\n",
      "DevanagariHandwrittenCharacterDataset/Train/character_3_ga  Class  30\n",
      "DevanagariHandwrittenCharacterDataset/Train/character_4_gha  Class  31\n",
      "DevanagariHandwrittenCharacterDataset/Train/character_5_kna  Class  32\n",
      "DevanagariHandwrittenCharacterDataset/Train/character_6_cha  Class  33\n",
      "DevanagariHandwrittenCharacterDataset/Train/character_7_chha  Class  34\n",
      "DevanagariHandwrittenCharacterDataset/Train/character_8_ja  Class  35\n",
      "DevanagariHandwrittenCharacterDataset/Train/character_9_jha  Class  36\n",
      "DevanagariHandwrittenCharacterDataset/Train/digit_0  Class  37\n",
      "DevanagariHandwrittenCharacterDataset/Train/digit_1  Class  38\n",
      "DevanagariHandwrittenCharacterDataset/Train/digit_2  Class  39\n",
      "DevanagariHandwrittenCharacterDataset/Train/digit_3  Class  40\n",
      "DevanagariHandwrittenCharacterDataset/Train/digit_4  Class  41\n",
      "DevanagariHandwrittenCharacterDataset/Train/digit_5  Class  42\n",
      "DevanagariHandwrittenCharacterDataset/Train/digit_6  Class  43\n",
      "DevanagariHandwrittenCharacterDataset/Train/digit_7  Class  44\n",
      "DevanagariHandwrittenCharacterDataset/Train/digit_8  Class  45\n",
      "DevanagariHandwrittenCharacterDataset/Train/digit_9  Class  46\n"
     ]
    }
   ],
   "source": [
    "rootdir = \"DevanagariHandwrittenCharacterDataset/Train/\"  #This is our directory inside which all images are present in different subfolders.\n",
    "X,Y = make_matrix(rootdir)"
   ]
  },
  {
   "cell_type": "code",
   "execution_count": 5,
   "metadata": {},
   "outputs": [
    {
     "data": {
      "text/plain": [
       "array([[[  0.,   0.,   0., ...,   0.,   0.,   0.],\n",
       "        [  0.,   0.,   0., ...,   0.,   0.,   0.],\n",
       "        [  0.,   0.,   0., ...,   0.,   0.,   0.],\n",
       "        ...,\n",
       "        [  0.,   0.,   0., ...,   0.,   0.,   0.],\n",
       "        [  0.,   0.,   0., ...,   0.,   0.,   0.],\n",
       "        [  0.,   0.,   0., ...,   0.,   0.,   0.]],\n",
       "\n",
       "       [[  0.,   0.,   0., ...,   0.,   0.,   0.],\n",
       "        [  0.,   0.,   0., ...,   0.,   0.,   0.],\n",
       "        [  0.,   0.,   0., ...,   0.,   0.,   0.],\n",
       "        ...,\n",
       "        [  0.,   0.,   0., ...,   0.,   0.,   0.],\n",
       "        [  0.,   0.,   0., ...,   0.,   0.,   0.],\n",
       "        [  0.,   0.,   0., ...,   0.,   0.,   0.]],\n",
       "\n",
       "       [[  0.,   0.,   0., ...,   0.,   0.,   0.],\n",
       "        [  0.,   0.,   0., ...,   0.,   0.,   0.],\n",
       "        [  0.,   0.,   0., ...,   0.,   0.,   0.],\n",
       "        ...,\n",
       "        [  0.,   0.,   5., ..., 123.,   0.,   0.],\n",
       "        [  0.,   0.,   0., ...,   0.,   0.,   0.],\n",
       "        [  0.,   0.,   0., ...,   0.,   0.,   0.]],\n",
       "\n",
       "       ...,\n",
       "\n",
       "       [[  0.,   0.,   0., ...,   0.,   0.,   0.],\n",
       "        [  0.,   0.,   0., ...,   0.,   0.,   0.],\n",
       "        [  0.,   0.,   0., ...,   0.,   0.,   0.],\n",
       "        ...,\n",
       "        [  0.,   0.,   0., ...,   0.,   0.,   0.],\n",
       "        [  0.,   0.,   0., ...,   0.,   0.,   0.],\n",
       "        [  0.,   0.,   0., ...,   0.,   0.,   0.]],\n",
       "\n",
       "       [[  0.,   0.,   0., ...,   0.,   0.,   0.],\n",
       "        [  0.,   0.,   0., ...,   0.,   0.,   0.],\n",
       "        [  0.,   0.,   0., ...,   1.,   0.,   0.],\n",
       "        ...,\n",
       "        [  0.,   0.,   0., ...,   0.,   0.,   0.],\n",
       "        [  0.,   0.,   0., ...,   0.,   0.,   0.],\n",
       "        [  0.,   0.,   0., ...,   0.,   0.,   0.]],\n",
       "\n",
       "       [[  0.,   0.,   0., ...,   0.,   0.,   0.],\n",
       "        [  0.,   0.,   0., ...,   0.,   0.,   0.],\n",
       "        [  0.,   0.,   0., ...,  16.,   0.,   0.],\n",
       "        ...,\n",
       "        [  0.,   0.,   0., ...,   0.,   0.,   0.],\n",
       "        [  0.,   0.,   0., ...,   0.,   0.,   0.],\n",
       "        [  0.,   0.,   0., ...,   0.,   0.,   0.]]])"
      ]
     },
     "execution_count": 5,
     "metadata": {},
     "output_type": "execute_result"
    }
   ],
   "source": [
    "X"
   ]
  },
  {
   "cell_type": "code",
   "execution_count": 6,
   "metadata": {},
   "outputs": [
    {
     "data": {
      "text/plain": [
       "array([['yna'],\n",
       "       ['yna'],\n",
       "       ['yna'],\n",
       "       ...,\n",
       "       ['9'],\n",
       "       ['9'],\n",
       "       ['9']], dtype='<U12')"
      ]
     },
     "execution_count": 6,
     "metadata": {},
     "output_type": "execute_result"
    }
   ],
   "source": [
    "Y"
   ]
  },
  {
   "cell_type": "code",
   "execution_count": 7,
   "metadata": {
    "_uuid": "b9b323c081b90fcff326c0dbd07526b62d235a4e",
    "collapsed": true
   },
   "outputs": [
    {
     "data": {
      "text/plain": [
       "{'0': 0,\n",
       " '1': 1,\n",
       " '2': 2,\n",
       " '3': 3,\n",
       " '4': 4,\n",
       " '5': 5,\n",
       " '6': 6,\n",
       " '7': 7,\n",
       " '8': 8,\n",
       " '9': 9,\n",
       " 'adna': 10,\n",
       " 'ba': 11,\n",
       " 'bha': 12,\n",
       " 'cha': 13,\n",
       " 'chha': 14,\n",
       " 'chhya': 15,\n",
       " 'da': 16,\n",
       " 'daa': 17,\n",
       " 'dha': 18,\n",
       " 'dhaa': 19,\n",
       " 'ga': 20,\n",
       " 'gha': 21,\n",
       " 'gya': 22,\n",
       " 'ha': 23,\n",
       " 'ja': 24,\n",
       " 'jha': 25,\n",
       " 'ka': 26,\n",
       " 'kha': 27,\n",
       " 'kna': 28,\n",
       " 'la': 29,\n",
       " 'ma': 30,\n",
       " 'motosaw': 31,\n",
       " 'na': 32,\n",
       " 'pa': 33,\n",
       " 'patalosaw': 34,\n",
       " 'petchiryakha': 35,\n",
       " 'pha': 36,\n",
       " 'ra': 37,\n",
       " 'taamatar': 38,\n",
       " 'tabala': 39,\n",
       " 'tha': 40,\n",
       " 'thaa': 41,\n",
       " 'tra': 42,\n",
       " 'waw': 43,\n",
       " 'yaw': 44,\n",
       " 'yna': 45}"
      ]
     },
     "execution_count": 7,
     "metadata": {},
     "output_type": "execute_result"
    }
   ],
   "source": [
    "#This will make a dictionary with keys as the labels and value as the numeric label we want to assign to each string label\n",
    "Yclass = {}\n",
    "for i in range(len(np.unique(Y)[:])):\n",
    "    Yclass[np.unique(Y)[i]] = i\n",
    "Yclass"
   ]
  },
  {
   "cell_type": "code",
   "execution_count": 8,
   "metadata": {},
   "outputs": [
    {
     "data": {
      "text/plain": [
       "dict_keys(['0', '1', '2', '3', '4', '5', '6', '7', '8', '9', 'adna', 'ba', 'bha', 'cha', 'chha', 'chhya', 'da', 'daa', 'dha', 'dhaa', 'ga', 'gha', 'gya', 'ha', 'ja', 'jha', 'ka', 'kha', 'kna', 'la', 'ma', 'motosaw', 'na', 'pa', 'patalosaw', 'petchiryakha', 'pha', 'ra', 'taamatar', 'tabala', 'tha', 'thaa', 'tra', 'waw', 'yaw', 'yna'])"
      ]
     },
     "execution_count": 8,
     "metadata": {},
     "output_type": "execute_result"
    }
   ],
   "source": [
    "Yclass.keys()"
   ]
  },
  {
   "cell_type": "code",
   "execution_count": 10,
   "metadata": {},
   "outputs": [
    {
     "data": {
      "text/plain": [
       "array([[45],\n",
       "       [45],\n",
       "       [45],\n",
       "       ...,\n",
       "       [ 9],\n",
       "       [ 9],\n",
       "       [ 9]])"
      ]
     },
     "execution_count": 10,
     "metadata": {},
     "output_type": "execute_result"
    }
   ],
   "source": [
    "def yvectorize(dict,data):\n",
    "    '''This will assign the numeric label to each string label in the label matrix'''\n",
    "    return dict[data]\n",
    "vect = np.vectorize(yvectorize)\n",
    "Y = vect(Yclass,Y)\n",
    "\n",
    "Y\n",
    "\n",
    "#Same thing done differently by me\n",
    "#for key in Yclass.keys():\n",
    "#    for i in range(0,Y.size):\n",
    "#        if(Y[i]==key):\n",
    "#            Y[i]=Yclass[key]\n",
    "#Y = Y.astype('int32')\n",
    "#Y"
   ]
  },
  {
   "cell_type": "code",
   "execution_count": 11,
   "metadata": {},
   "outputs": [
    {
     "data": {
      "text/plain": [
       "dtype('int32')"
      ]
     },
     "execution_count": 11,
     "metadata": {},
     "output_type": "execute_result"
    }
   ],
   "source": [
    "Y.dtype"
   ]
  },
  {
   "cell_type": "code",
   "execution_count": 12,
   "metadata": {},
   "outputs": [
    {
     "data": {
      "text/plain": [
       "(78200, 32, 32)"
      ]
     },
     "execution_count": 12,
     "metadata": {},
     "output_type": "execute_result"
    }
   ],
   "source": [
    "X.shape"
   ]
  },
  {
   "cell_type": "code",
   "execution_count": 13,
   "metadata": {},
   "outputs": [
    {
     "data": {
      "text/plain": [
       "(78200, 1)"
      ]
     },
     "execution_count": 13,
     "metadata": {},
     "output_type": "execute_result"
    }
   ],
   "source": [
    "Y.shape"
   ]
  },
  {
   "cell_type": "code",
   "execution_count": 14,
   "metadata": {
    "_uuid": "12c0fb3b5948b91967e42871de6a4133b70cbc3e",
    "collapsed": true
   },
   "outputs": [],
   "source": [
    "x_train,x_test,y_train,y_test = smodel.train_test_split(X,Y,test_size=0.25) #This will split the matrix into train and cross validation matrix"
   ]
  },
  {
   "cell_type": "code",
   "execution_count": 31,
   "metadata": {
    "_uuid": "16563e68abb1896def1ed74fbdc86c6caecca9e1",
    "collapsed": true
   },
   "outputs": [
    {
     "data": {
      "text/plain": [
       "Text(0.5, 0, 'la')"
      ]
     },
     "execution_count": 31,
     "metadata": {},
     "output_type": "execute_result"
    },
    {
     "data": {
      "image/png": "[encoded data removed]",
      "text/plain": [
       "<Figure size 432x288 with 1 Axes>"
      ]
     },
     "metadata": {
      "needs_background": "light"
     },
     "output_type": "display_data"
    }
   ],
   "source": [
    "#to find the character name by it's label\n",
    "def charactername(dic,label):\n",
    "    for key, value in dic.items():    # for name, age in list.items():  (for Python 3.x)\n",
    "        if(value == label):\n",
    "            return (key)\n",
    "        \n",
    "#To print a random image and it's label from trainig set\n",
    "rand = np.random.randint(1,100)\n",
    "plt.figure()\n",
    "plt.imshow(x_train[rand])\n",
    "#plt.xticks([])\n",
    "plt.yticks([])\n",
    "plt.grid(False)\n",
    "plt.xlabel(charactername(Yclass,y_train[rand]))"
   ]
  },
  {
   "cell_type": "code",
   "execution_count": 34,
   "metadata": {
    "_uuid": "ed0743309a7d136734cfc766ae9edfd19a5b4b70",
    "collapsed": true
   },
   "outputs": [
    {
     "data": {
      "image/png": "[encoded data removed]",
      "text/plain": [
       "<Figure size 720x720 with 5 Axes>"
      ]
     },
     "metadata": {},
     "output_type": "display_data"
    }
   ],
   "source": [
    "\"\"\"let's plot 5 random train set images \"\"\"\n",
    "plt.figure(figsize=(10,10))\n",
    "rand = np.random.randint(1,1000,5)\n",
    "for i in range(len(rand)):\n",
    "    plt.subplot(5,5,i+1)\n",
    "    plt.xticks([])\n",
    "    plt.yticks([])\n",
    "    plt.grid(False)\n",
    "    plt.imshow(x_train[rand[i]], cmap=plt.cm.binary)\n",
    "    plt.xlabel(charactername(Yclass,y_train[rand[i]]))"
   ]
  },
  {
   "cell_type": "code",
   "execution_count": 35,
   "metadata": {
    "_uuid": "ab850b43b889c4c46d93f4e5094c15b1c17f9509",
    "collapsed": true
   },
   "outputs": [],
   "source": [
    "#Let's normalise the feature matrix \n",
    "\"\"\"The value of feature matrix are in range 0 - 255\"\"\"\n",
    "x_train = (x_train-np.mean(x_train))/np.std(x_train)\n",
    "x_test = (x_test-np.mean(x_test))/np.std(x_test)"
   ]
  },
  {
   "cell_type": "code",
   "execution_count": 36,
   "metadata": {},
   "outputs": [
    {
     "data": {
      "text/plain": [
       "(58650, 32, 32)"
      ]
     },
     "execution_count": 36,
     "metadata": {},
     "output_type": "execute_result"
    }
   ],
   "source": [
    "x_train.shape"
   ]
  },
  {
   "cell_type": "code",
   "execution_count": 37,
   "metadata": {},
   "outputs": [
    {
     "data": {
      "text/plain": [
       "(58650, 1)"
      ]
     },
     "execution_count": 37,
     "metadata": {},
     "output_type": "execute_result"
    }
   ],
   "source": [
    "y_train.shape"
   ]
  },
  {
   "cell_type": "code",
   "execution_count": 38,
   "metadata": {},
   "outputs": [
    {
     "data": {
      "text/plain": [
       "(19550, 32, 32)"
      ]
     },
     "execution_count": 38,
     "metadata": {},
     "output_type": "execute_result"
    }
   ],
   "source": [
    "x_test.shape"
   ]
  },
  {
   "cell_type": "code",
   "execution_count": 39,
   "metadata": {},
   "outputs": [
    {
     "data": {
      "text/plain": [
       "(19550, 1)"
      ]
     },
     "execution_count": 39,
     "metadata": {},
     "output_type": "execute_result"
    }
   ],
   "source": [
    "y_test.shape"
   ]
  },
  {
   "cell_type": "code",
   "execution_count": 40,
   "metadata": {},
   "outputs": [],
   "source": [
    "np.save('x_train', x_train)\n",
    "np.save('y_train', y_train)\n",
    "np.save('x_test', x_test)\n",
    "np.save('y_test', y_test)"
   ]
  },
  {
   "cell_type": "code",
   "execution_count": null,
   "metadata": {},
   "outputs": [],
   "source": []
  },
  {
   "cell_type": "code",
   "execution_count": null,
   "metadata": {},
   "outputs": [],
   "source": []
  },
  {
   "cell_type": "code",
   "execution_count": null,
   "metadata": {},
   "outputs": [],
   "source": []
  },
  {
   "cell_type": "code",
   "execution_count": null,
   "metadata": {},
   "outputs": [],
   "source": []
  },
  {
   "cell_type": "code",
   "execution_count": null,
   "metadata": {},
   "outputs": [],
   "source": []
  },
  {
   "cell_type": "code",
   "execution_count": null,
   "metadata": {},
   "outputs": [],
   "source": []
  },
  {
   "cell_type": "code",
   "execution_count": null,
   "metadata": {},
   "outputs": [],
   "source": []
  },
  {
   "cell_type": "code",
   "execution_count": null,
   "metadata": {},
   "outputs": [],
   "source": []
  },
  {
   "cell_type": "code",
   "execution_count": null,
   "metadata": {},
   "outputs": [],
   "source": []
  },
  {
   "cell_type": "code",
   "execution_count": null,
   "metadata": {},
   "outputs": [],
   "source": []
  },
  {
   "cell_type": "code",
   "execution_count": null,
   "metadata": {
    "_uuid": "a09f017f8e324e50d98d16304f6e7888e687a686",
    "collapsed": true
   },
   "outputs": [],
   "source": [
    "\"\"\"Let's train our model using three models ##first model has two layers only \n",
    "Second model has two layers with middle layer having 128 nodes\n",
    "And third model has three layers with second layer having 256 nodes, Third layer with 128 nodes\n",
    "Final layer in each model has 46 nodes as there are 36 alphabet and 10 digits in our data\n",
    "We are doing this to find whether accuracy increases or decreases with addition of layers\"\"\"\n",
    "model1 = keras.Sequential([\n",
    "    keras.layers.Flatten(input_shape=(32, 32)),\n",
    "    keras.layers.Dense(46, activation=tf.nn.softmax)\n",
    "])\n",
    "\n",
    "model2 = keras.Sequential([\n",
    "    keras.layers.Flatten(input_shape=(32, 32)),\n",
    "    keras.layers.Dense(128, activation=tf.nn.relu),\n",
    "    keras.layers.Dense(46, activation=tf.nn.softmax)\n",
    "])\n",
    "\n",
    "\n",
    "model3 = keras.Sequential([\n",
    "    keras.layers.Flatten(input_shape=(32, 32)),\n",
    "    keras.layers.Dense(256, activation=tf.nn.relu),\n",
    "    keras.layers.Dense(128, activation=tf.nn.relu),\n",
    "    keras.layers.Dense(46, activation=tf.nn.softmax)\n",
    "])\n",
    "modellist = {'model1':model1,'model2':model2,'model3':model3}\n"
   ]
  },
  {
   "cell_type": "code",
   "execution_count": null,
   "metadata": {
    "_uuid": "3527d511b623ed05cf35c4ff48b79f0e955fa3e3",
    "collapsed": true
   },
   "outputs": [],
   "source": [
    "\"\"\"Compiling our models\"\"\"\n",
    "for k in modellist:\n",
    "    modellist[k].compile(optimizer=tf.train.AdamOptimizer(), \n",
    "              loss='sparse_categorical_crossentropy',\n",
    "              metrics=['accuracy'])"
   ]
  },
  {
   "cell_type": "code",
   "execution_count": null,
   "metadata": {
    "_uuid": "d0fc271226eb37dc09331583ad8a56d88f9f0462",
    "collapsed": true
   },
   "outputs": [],
   "source": [
    "\"\"\"To note the value of epochs in corresponding model and train and test accuracy with that given model and epochs\"\"\"\n",
    "epo = {'model1':[],'model2':[],'model3':[]}\n",
    "trainacc = {'model1':[],'model2':[],'model3':[]}\n",
    "testacc = {'model1':[],'model2':[],'model3':[]}\n",
    "def trainandaccuracy(epochs,model,i):\n",
    "    print(\"--\"*20)\n",
    "    print(i,epochs)\n",
    "    model.fit(x_train,y_train, epochs=epochs)\n",
    "    test_loss, test_acc = model.evaluate(x_test,y_test)\n",
    "    train_loss, train_acc = model.evaluate(x_train,y_train)\n",
    "    epo[i].append(epochs)\n",
    "    trainacc[i].append(train_acc)\n",
    "    testacc[i].append(test_acc)"
   ]
  },
  {
   "cell_type": "code",
   "execution_count": null,
   "metadata": {
    "_uuid": "9fae5840463b6fdeb4b11022293995bc1013dd2d",
    "collapsed": true
   },
   "outputs": [],
   "source": [
    "\"\"\"To train models with epochs 5  with all the three model we have created\"\"\"\n",
    "for i in modellist:\n",
    "    trainandaccuracy(5,modellist[i],i)"
   ]
  },
  {
   "cell_type": "code",
   "execution_count": null,
   "metadata": {
    "_uuid": "3b408d2f03343c1d763043415b3b98f58db39f7a",
    "collapsed": true
   },
   "outputs": [],
   "source": [
    "\"\"\"To plot the train and test accuracy with different models and different epochs\"\"\"\n",
    "for i in modellist:\n",
    "    print(i)\n",
    "    plt.figure()\n",
    "    plt.plot(epo[i],trainacc[i],label=\"Train Accuracy\")\n",
    "    plt.plot(epo[i],testacc[i],label=\"Test Accuracy\")\n",
    "    plt.title(\"Accuracy vs epoch for  \"+i)\n",
    "    plt.xlabel(\"epoch\")\n",
    "    plt.ylabel(\"Accuracy\")\n",
    "    plt.legend()"
   ]
  },
  {
   "cell_type": "code",
   "execution_count": null,
   "metadata": {
    "_uuid": "b9f9265c27373fd2d4a07f3badd903e0b217d39f",
    "collapsed": true
   },
   "outputs": [],
   "source": [
    "\"\"\"Let's visualize some images that are predicted by our models on cross validation set\n",
    "\"\"\"\n",
    "for j in modellist:\n",
    "    predictions = np.argmax(modellist[j].predict(x_test),axis=1)\n",
    "    plt.figure(figsize=(10,10))\n",
    "    rand = np.random.randint(1,23000,25)\n",
    "    for i in range(len(rand)):\n",
    "        plt.subplot(5,5,i+1)\n",
    "        plt.xticks([])\n",
    "        plt.yticks([])\n",
    "        plt.grid('off')\n",
    "        plt.imshow(x_test[rand[i]], cmap=plt.cm.binary)\n",
    "        plt.xlabel(charactername(Yclass,predictions[rand[i]]))\n",
    "        plt.suptitle(\"predicted label for random digit using \"+j)"
   ]
  },
  {
   "cell_type": "code",
   "execution_count": null,
   "metadata": {
    "_uuid": "e5d68d4a91dc62c001a7729f6bb4240cdb5b6cb2",
    "collapsed": true
   },
   "outputs": [],
   "source": []
  },
  {
   "cell_type": "code",
   "execution_count": null,
   "metadata": {
    "_uuid": "80c4ef730fa0f681d6bb8c9ef8f116ff0877bb21",
    "collapsed": true
   },
   "outputs": [],
   "source": []
  }
 ],
 "metadata": {
  "kernelspec": {
   "display_name": "Python 3",
   "language": "python",
   "name": "python3"
  },
  "language_info": {
   "codemirror_mode": {
    "name": "ipython",
    "version": 3
   },
   "file_extension": ".py",
   "mimetype": "text/x-python",
   "name": "python",
   "nbconvert_exporter": "python",
   "pygments_lexer": "ipython3",
   "version": "3.7.3"
  }
 },
 "nbformat": 4,
 "nbformat_minor": 2
}
